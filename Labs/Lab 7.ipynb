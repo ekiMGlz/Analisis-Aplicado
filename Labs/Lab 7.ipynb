{
 "cells": [
  {
   "cell_type": "code",
   "execution_count": 110,
   "metadata": {
    "collapsed": true
   },
   "outputs": [],
   "source": [
    "import numpy as np\n",
    "import scipy.sparse as sparse\n",
    "import scipy.linalg as la\n",
    "\n",
    "def grad(f, x):\n",
    "    '''\n",
    "        Input:\n",
    "            f: lambda function\n",
    "            x: function args\n",
    "        Output:\n",
    "            grad_f: function gradient at x\n",
    "    '''\n",
    "    n = len(x)\n",
    "    grad_f = np.zeros(n)\n",
    "    \n",
    "    E = np.diag([pow(np.finfo(float).eps, 1/3) * (abs(a) + 1) for a in x])\n",
    "    \n",
    "    for i in range(n):\n",
    "        grad_f[i] = (f(x + E[:, i]) - f(x - E[:, i])) * (0.5 / E[i, i])\n",
    "    \n",
    "    return grad_f\n",
    "    \n",
    "def hess(f, x):\n",
    "    '''\n",
    "        Input:\n",
    "            f: lambda function\n",
    "            x: function args\n",
    "        Output:\n",
    "            hess_f: hessian of f at x\n",
    "    '''\n",
    "    n = len(x)\n",
    "    hess_f = np.zeros([n, n])\n",
    "    \n",
    "    E = np.diag([pow(np.finfo(float).eps, 1/4) * (abs(a) + 1) for a in x])\n",
    "    \n",
    "    for i in range(n):\n",
    "        for j in range(n):\n",
    "            hess_f[i, j] = (  f(x + E[:, i] + E[:, j]) \n",
    "                            - f(x - E[:, i] + E[:, j]) \n",
    "                            - f(x + E[:, i] - E[:, j]) \n",
    "                            + f(x - E[:, i] - E[:, j]) ) * (0.25 / (E[i, i] * E[j, j]))\n",
    "    \n",
    "    return hess_f\n",
    "\n",
    "def cyclic_coordinate_descent(x0, A, b, tol=1e-5, maxiter=1000):\n",
    "    x = np.copy(x0)\n",
    "    \n",
    "    n = A.shape[0]\n",
    "    m = 0\n",
    "    k = 0\n",
    "    r = A.dot(x) - b\n",
    "    \n",
    "    while la.norm(r, np.inf) > tol and (m*n + k) < maxiter:\n",
    "        \n",
    "        if k >= n:\n",
    "            k = 0\n",
    "            m = m + 1\n",
    "        \n",
    "        alpha = -r[k]/A[k, k]\n",
    "        x[k] = x[k] + alpha\n",
    "        r = A.dot(x) - b\n",
    "        \n",
    "        k += 1\n",
    "        \n",
    "    return x, m*n + k"
   ]
  },
  {
   "cell_type": "code",
   "execution_count": 83,
   "metadata": {
    "collapsed": false,
    "scrolled": true
   },
   "outputs": [],
   "source": [
    "A = sparse.diags([[2]*100, [1]*100, [1]*100], [0, -1, 1])\n",
    "b = np.ones((100))"
   ]
  },
  {
   "cell_type": "code",
   "execution_count": 84,
   "metadata": {
    "collapsed": false
   },
   "outputs": [
    {
     "data": {
      "text/plain": [
       "<100x100 sparse matrix of type '<class 'numpy.float64'>'\n",
       "\twith 298 stored elements (3 diagonals) in DIAgonal format>"
      ]
     },
     "execution_count": 84,
     "metadata": {},
     "output_type": "execute_result"
    }
   ],
   "source": [
    "A"
   ]
  },
  {
   "cell_type": "code",
   "execution_count": 85,
   "metadata": {
    "collapsed": false
   },
   "outputs": [
    {
     "data": {
      "text/plain": [
       "array([ 1.,  1.,  1.,  1.,  1.,  1.,  1.,  1.,  1.,  1.,  1.,  1.,  1.,\n",
       "        1.,  1.,  1.,  1.,  1.,  1.,  1.,  1.,  1.,  1.,  1.,  1.,  1.,\n",
       "        1.,  1.,  1.,  1.,  1.,  1.,  1.,  1.,  1.,  1.,  1.,  1.,  1.,\n",
       "        1.,  1.,  1.,  1.,  1.,  1.,  1.,  1.,  1.,  1.,  1.,  1.,  1.,\n",
       "        1.,  1.,  1.,  1.,  1.,  1.,  1.,  1.,  1.,  1.,  1.,  1.,  1.,\n",
       "        1.,  1.,  1.,  1.,  1.,  1.,  1.,  1.,  1.,  1.,  1.,  1.,  1.,\n",
       "        1.,  1.,  1.,  1.,  1.,  1.,  1.,  1.,  1.,  1.,  1.,  1.,  1.,\n",
       "        1.,  1.,  1.,  1.,  1.,  1.,  1.,  1.,  1.])"
      ]
     },
     "execution_count": 85,
     "metadata": {},
     "output_type": "execute_result"
    }
   ],
   "source": [
    "b"
   ]
  },
  {
   "cell_type": "code",
   "execution_count": 86,
   "metadata": {
    "collapsed": false,
    "scrolled": false
   },
   "outputs": [],
   "source": [
    "[x, i] = cyclic_coordinate_descent(np.zeros(100), A.toarray(), b, maxiter = np.inf)"
   ]
  },
  {
   "cell_type": "code",
   "execution_count": 87,
   "metadata": {
    "collapsed": false
   },
   "outputs": [
    {
     "data": {
      "text/plain": [
       "array([ 0.99999901,  1.00000148,  0.99999804,  1.00000243,  0.99999711,\n",
       "        1.00000333,  0.99999625,  1.00000416,  0.99999545,  1.00000491,\n",
       "        0.99999475,  1.00000557,  0.99999414,  1.00000613,  0.99999363,\n",
       "        1.00000657,  0.99999325,  1.0000069 ,  0.99999299,  1.00000709,\n",
       "        0.99999286,  1.00000716,  0.99999285,  1.0000071 ,  0.99999298,\n",
       "        1.0000069 ,  0.99999324,  1.00000658,  0.99999363,  1.00000614,\n",
       "        0.99999413,  1.00000558,  0.99999475,  1.00000491,  0.99999547,\n",
       "        1.00000414,  0.99999628,  1.00000329,  0.99999717,  1.00000236,\n",
       "        0.99999812,  1.00000138,  0.99999913,  1.00000035,  1.00000017,\n",
       "        0.9999993 ,  1.00000124,  0.99999823,  1.0000023 ,  0.99999717,\n",
       "        1.00000335,  0.99999613,  1.00000437,  0.99999513,  1.00000535,\n",
       "        0.99999419,  1.00000626,  0.99999331,  1.0000071 ,  0.99999251,\n",
       "        1.00000786,  0.99999181,  1.00000851,  0.99999121,  1.00000905,\n",
       "        0.99999072,  1.00000948,  0.99999036,  1.00000978,  0.99999012,\n",
       "        1.00000995,  0.99999001,  1.00000999,  0.99999004,  1.0000099 ,\n",
       "        0.9999902 ,  1.00000967,  0.99999049,  1.00000931,  0.99999091,\n",
       "        1.00000884,  0.99999145,  1.00000824,  0.9999921 ,  1.00000754,\n",
       "        0.99999285,  1.00000673,  0.9999937 ,  1.00000584,  0.99999463,\n",
       "        1.        ,  0.99999025,  1.00000387,  0.99999667,  1.00000279,\n",
       "        0.99999776,  1.00000168,  0.99999888,  1.00000056,  1.        ])"
      ]
     },
     "execution_count": 87,
     "metadata": {},
     "output_type": "execute_result"
    }
   ],
   "source": [
    "A.dot(x)"
   ]
  },
  {
   "cell_type": "code",
   "execution_count": 88,
   "metadata": {
    "collapsed": false
   },
   "outputs": [
    {
     "data": {
      "text/plain": [
       "110791"
      ]
     },
     "execution_count": 88,
     "metadata": {},
     "output_type": "execute_result"
    }
   ],
   "source": [
    "i"
   ]
  },
  {
   "cell_type": "code",
   "execution_count": 111,
   "metadata": {
    "collapsed": false,
    "scrolled": true
   },
   "outputs": [],
   "source": [
    "B = np.array([[1, 0], [0, 3]])\n",
    "d = np.array([1, 1])\n",
    "x1 = np.array([-1, 3])"
   ]
  },
  {
   "cell_type": "code",
   "execution_count": 112,
   "metadata": {
    "collapsed": false,
    "scrolled": true
   },
   "outputs": [
    {
     "name": "stdout",
     "output_type": "stream",
     "text": [
      "2.0\n",
      "[1 3]\n",
      "[0 8]\n",
      "-2.66666666667\n",
      "[1 0]\n",
      "[ 0 -1]\n",
      "0.0\n",
      "[1 0]\n",
      "[ 0 -1]\n",
      "0.333333333333\n",
      "[1 0]\n",
      "[ 0 -1]\n",
      "0.0\n",
      "[1 0]\n",
      "[ 0 -1]\n",
      "0.333333333333\n",
      "[1 0]\n",
      "[ 0 -1]\n",
      "0.0\n",
      "[1 0]\n",
      "[ 0 -1]\n",
      "0.333333333333\n",
      "[1 0]\n",
      "[ 0 -1]\n",
      "0.0\n",
      "[1 0]\n",
      "[ 0 -1]\n",
      "0.333333333333\n",
      "[1 0]\n",
      "[ 0 -1]\n"
     ]
    },
    {
     "data": {
      "text/plain": [
       "(array([1, 0]), 10)"
      ]
     },
     "execution_count": 112,
     "metadata": {},
     "output_type": "execute_result"
    }
   ],
   "source": [
    "cyclic_coordinate_descent(x1, B, d, maxiter=10)"
   ]
  },
  {
   "cell_type": "code",
   "execution_count": 100,
   "metadata": {
    "collapsed": false
   },
   "outputs": [
    {
     "data": {
      "text/plain": [
       "array([3, 6])"
      ]
     },
     "execution_count": 100,
     "metadata": {},
     "output_type": "execute_result"
    }
   ],
   "source": [
    "B.dot([3, 2])"
   ]
  },
  {
   "cell_type": "code",
   "execution_count": 101,
   "metadata": {
    "collapsed": false
   },
   "outputs": [
    {
     "data": {
      "text/plain": [
       "array([-1,  9])"
      ]
     },
     "execution_count": 101,
     "metadata": {},
     "output_type": "execute_result"
    }
   ],
   "source": [
    "B.dot(x1)"
   ]
  },
  {
   "cell_type": "code",
   "execution_count": 108,
   "metadata": {
    "collapsed": false
   },
   "outputs": [
    {
     "data": {
      "text/plain": [
       "3"
      ]
     },
     "execution_count": 108,
     "metadata": {},
     "output_type": "execute_result"
    }
   ],
   "source": [
    "B[1, 1]"
   ]
  },
  {
   "cell_type": "code",
   "execution_count": 109,
   "metadata": {
    "collapsed": false
   },
   "outputs": [
    {
     "data": {
      "text/plain": [
       "3"
      ]
     },
     "execution_count": 109,
     "metadata": {},
     "output_type": "execute_result"
    }
   ],
   "source": [
    "B[1][1]"
   ]
  },
  {
   "cell_type": "code",
   "execution_count": null,
   "metadata": {
    "collapsed": true
   },
   "outputs": [],
   "source": []
  }
 ],
 "metadata": {
  "kernelspec": {
   "display_name": "Python 3",
   "language": "python",
   "name": "python3"
  },
  "language_info": {
   "codemirror_mode": {
    "name": "ipython",
    "version": 3
   },
   "file_extension": ".py",
   "mimetype": "text/x-python",
   "name": "python",
   "nbconvert_exporter": "python",
   "pygments_lexer": "ipython3",
   "version": "3.6.0"
  }
 },
 "nbformat": 4,
 "nbformat_minor": 2
}
