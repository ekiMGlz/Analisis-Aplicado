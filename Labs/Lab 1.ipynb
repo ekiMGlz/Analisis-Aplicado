{
 "cells": [
  {
   "cell_type": "code",
   "execution_count": 2,
   "metadata": {
    "collapsed": false,
    "scrolled": true
   },
   "outputs": [],
   "source": [
    "import numpy as np\n",
    "import scipy.sparse as sparse\n",
    "import scipy.linalg as la"
   ]
  },
  {
   "cell_type": "code",
   "execution_count": 159,
   "metadata": {
    "collapsed": false
   },
   "outputs": [],
   "source": [
    "'''\n",
    "    Ejer. 1\n",
    "'''\n",
    "def grad(f, x):\n",
    "    '''\n",
    "        Input:\n",
    "            f: lambda function\n",
    "            x: function args\n",
    "        Output:\n",
    "            grad_f: function gradient at x\n",
    "    '''\n",
    "    n = len(x)\n",
    "    grad_f = np.zeros(n)\n",
    "    \n",
    "    E = np.diag([pow(np.finfo(float).eps, 1/3) * (abs(a) + 1) for a in x])\n",
    "    \n",
    "    for i in range(n):\n",
    "        grad_f[i] = (f(x + E[:, i]) - f(x - E[:, i])) * (0.5 / E[i, i])\n",
    "    \n",
    "    return grad_f\n"
   ]
  },
  {
   "cell_type": "code",
   "execution_count": 160,
   "metadata": {
    "collapsed": true
   },
   "outputs": [],
   "source": [
    "'''\n",
    "    Ejer. 2\n",
    "'''\n",
    "\n",
    "def hess(f, x):\n",
    "    '''\n",
    "        Input:\n",
    "            f: lambda function\n",
    "            x: function args\n",
    "        Output:\n",
    "            hess_f: hessian of f at x\n",
    "    '''\n",
    "    n = len(x)\n",
    "    hess_f = np.zeros([n, n])\n",
    "    \n",
    "    E = np.diag([pow(np.finfo(float).eps, 1/4) * (abs(a) + 1) for a in x])\n",
    "    \n",
    "    for i in range(n):\n",
    "        for j in range(n):\n",
    "            hess_f[i, j] = (  f(x + E[:, i] + E[:, j]) \n",
    "                            - f(x - E[:, i] + E[:, j]) \n",
    "                            - f(x + E[:, i] - E[:, j]) \n",
    "                            + f(x - E[:, i] - E[:, j]) ) \n",
    "                            * (0.25 / (E[i, i] * E[j, j]))\n",
    "    \n",
    "    return hess_f\n",
    "    "
   ]
  },
  {
   "cell_type": "code",
   "execution_count": 161,
   "metadata": {
    "collapsed": false,
    "scrolled": true
   },
   "outputs": [],
   "source": [
    "''' \n",
    "    Ejer. 3\n",
    "'''\n",
    "\n",
    "A = la.pascal(4)\n",
    "b = np.ones(4)\n",
    "f = lambda x : 1/2 * np.dot(x, np.dot(A, x)) + np.dot(b, x) + 1\n",
    "grad_f = lambda x : np.dot(A, x) + b\n",
    "hess_f = lambda x : A\n",
    "\n",
    "x = np.array([1, 2, 3, 4])\n"
   ]
  },
  {
   "cell_type": "code",
   "execution_count": 169,
   "metadata": {
    "collapsed": false
   },
   "outputs": [
    {
     "data": {
      "text/plain": [
       "array([  8.45782111e-10,   5.34583933e-10,  -7.92269361e-10,\n",
       "         1.88768468e-09])"
      ]
     },
     "execution_count": 169,
     "metadata": {},
     "output_type": "execute_result"
    }
   ],
   "source": [
    "grad(f, x) - grad_f(x)"
   ]
  },
  {
   "cell_type": "code",
   "execution_count": 168,
   "metadata": {
    "collapsed": false
   },
   "outputs": [
    {
     "data": {
      "text/plain": [
       "array([[ 0.,  0.,  0.,  0.],\n",
       "       [ 0.,  0.,  0.,  0.],\n",
       "       [ 0.,  0.,  0.,  0.],\n",
       "       [ 0.,  0.,  0.,  0.]])"
      ]
     },
     "execution_count": 168,
     "metadata": {},
     "output_type": "execute_result"
    }
   ],
   "source": [
    "hess(f, x) - hess_f(x)"
   ]
  },
  {
   "cell_type": "code",
   "execution_count": 3,
   "metadata": {
    "collapsed": false
   },
   "outputs": [
    {
     "data": {
      "text/plain": [
       "inf"
      ]
     },
     "execution_count": 3,
     "metadata": {},
     "output_type": "execute_result"
    }
   ],
   "source": [
    "'''\n",
    "    Ejer. 4\n",
    "'''\n",
    "np.inf"
   ]
  },
  {
   "cell_type": "code",
   "execution_count": null,
   "metadata": {
    "collapsed": true
   },
   "outputs": [],
   "source": []
  }
 ],
 "metadata": {
  "kernelspec": {
   "display_name": "Python 3",
   "language": "python",
   "name": "python3"
  },
  "language_info": {
   "codemirror_mode": {
    "name": "ipython",
    "version": 3
   },
   "file_extension": ".py",
   "mimetype": "text/x-python",
   "name": "python",
   "nbconvert_exporter": "python",
   "pygments_lexer": "ipython3",
   "version": "3.6.0"
  }
 },
 "nbformat": 4,
 "nbformat_minor": 2
}
