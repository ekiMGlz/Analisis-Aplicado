{
 "cells": [
  {
   "cell_type": "code",
   "execution_count": 1,
   "metadata": {
    "collapsed": false
   },
   "outputs": [],
   "source": [
    "import numpy as np\n",
    "import gradientDescent as gd\n",
    "import scipy.sparse as sparse\n",
    "import scipy.linalg as la"
   ]
  },
  {
   "cell_type": "code",
   "execution_count": 2,
   "metadata": {
    "collapsed": true
   },
   "outputs": [],
   "source": [
    "def quad_max_descent(f, x0, tol=1e-5, maxiter=100, Df=None, Q=None):\n",
    "    '''\n",
    "        Input:\n",
    "            f - quadratic func to minimize\n",
    "            x0 - initial point\n",
    "            tol - tolerance\n",
    "            maxiter - max num of iterations\n",
    "            Df - Exact gradient func handle\n",
    "            Q - Exact hess matrix\n",
    "        Output:\n",
    "            xf - final aproximation of x*\n",
    "            iterations - number of iterations to reach soln\n",
    "    '''\n",
    "    \n",
    "    xf = x0\n",
    "    n = len(x0)\n",
    "    iterations = 0\n",
    "    c_1 = 0.1\n",
    "    c_2 = 0.9\n",
    "    \n",
    "    grad_f = gd.grad(f, xf) if Df is None else Df(xf)\n",
    "    Q = gd.hess(f, xf) if Q is None else Q\n",
    "    \n",
    "    \n",
    "    while iterations < maxiter and np.linalg.norm(grad_f, np.inf) > tol:\n",
    "        \n",
    "        #Find descent direction\n",
    "        d = - grad_f / np.linalg.norm(grad_f)\n",
    "        \n",
    "        #Direction coef.\n",
    "        alfa = -0.99 * (np.dot(grad_f, d))/np.dot(d, np.dot(Q, d))\n",
    "        \n",
    "        #Next iteration\n",
    "        xf = xf + alfa * d\n",
    "        iterations += 1\n",
    "        grad_f = gd.grad(f, xf) if Df is None else Df(xf)\n",
    "    \n",
    "    return xf, iterations"
   ]
  },
  {
   "cell_type": "code",
   "execution_count": 3,
   "metadata": {
    "collapsed": false
   },
   "outputs": [
    {
     "data": {
      "text/plain": [
       "(array([  9.99928304e-01,   1.62683422e-04,  -1.36114515e-04,\n",
       "          3.91474596e-05]), 85)"
      ]
     },
     "execution_count": 3,
     "metadata": {},
     "output_type": "execute_result"
    }
   ],
   "source": [
    "A = la.pascal(4)\n",
    "b = -np.ones(4)\n",
    "f = lambda x : 1/2 * np.dot(x, np.dot(A, x)) + np.dot(b, x) + 1\n",
    "x0 = np.array([4, 4, 4, 4])\n",
    "\n",
    "quad_max_descent(f, x0)"
   ]
  },
  {
   "cell_type": "code",
   "execution_count": 4,
   "metadata": {
    "collapsed": false
   },
   "outputs": [
    {
     "data": {
      "text/plain": [
       "(array([  9.99915062e-01,   1.96182219e-04,  -1.62694973e-04,\n",
       "          4.63100974e-05]), 87)"
      ]
     },
     "execution_count": 4,
     "metadata": {},
     "output_type": "execute_result"
    }
   ],
   "source": [
    "grad_f = lambda x : np.dot(A, x) + b\n",
    "hess_f = lambda x : A\n",
    "\n",
    "quad_max_descent(f, x0, Df=grad_f, Q=hess_f(x0))"
   ]
  },
  {
   "cell_type": "code",
   "execution_count": 5,
   "metadata": {
    "collapsed": false
   },
   "outputs": [],
   "source": [
    "def max_descent_opt(f, x0, tol=1e-5, maxiter=100):\n",
    "    '''\n",
    "        Input:\n",
    "            f - func to minimize\n",
    "            x0 - initial point\n",
    "            tol - tolerance\n",
    "            maxiter - max num of iterations\n",
    "        Output:\n",
    "            xf - final aproximation of x*\n",
    "            iterations - number of iterations to reach soln\n",
    "    '''\n",
    "    \n",
    "    xf = x0\n",
    "    n = len(x0)\n",
    "    iterations = 0\n",
    "    c_1 = 0.1\n",
    "    c_2 = 0.9\n",
    "    \n",
    "    grad_f = gd.grad(f, xf)\n",
    "    \n",
    "    while iterations < maxiter and np.linalg.norm(grad_f, np.inf) > tol:\n",
    "        \n",
    "        #Find descent direction\n",
    "        d = - grad_f / np.linalg.norm(grad_f)\n",
    "        \n",
    "        #Direction coef.\n",
    "        alfa = 1\n",
    "        \n",
    "        a = f(xf)\n",
    "        b = np.dot(grad_f, d)\n",
    "        \n",
    "        while f(xf + alfa*d) > a + alfa*c_1*b:\n",
    "            alfa /= 2\n",
    "        \n",
    "        alfa = 0.99*(-0.5*b*(alfa**2)/(f(xf+alfa*d) - a - b*alfa))\n",
    "        assert np.dot(gd.grad(f, xf + alfa*d), d) >= c_2*np.dot(grad_f, d), \"No cumple W2\"\n",
    "        \n",
    "        #Next iteration\n",
    "        xf = xf + alfa*d\n",
    "        iterations += 1\n",
    "        grad_f = gd.grad(f, xf)\n",
    "    \n",
    "    return xf, iterations"
   ]
  },
  {
   "cell_type": "code",
   "execution_count": 6,
   "metadata": {
    "collapsed": false
   },
   "outputs": [
    {
     "data": {
      "text/plain": [
       "(array([ 1.00000029,  1.00000061]), 446)"
      ]
     },
     "execution_count": 6,
     "metadata": {},
     "output_type": "execute_result"
    }
   ],
   "source": [
    "rosenbrock = lambda x : 100*(x[0]**2 - x[1])**2 + (x[0]-1)**2\n",
    "x0_r = np.array([2, 3])\n",
    "max_descent_opt(rosenbrock, x0_r, 1e-5, 1000)"
   ]
  },
  {
   "cell_type": "code",
   "execution_count": 13,
   "metadata": {
    "collapsed": false,
    "scrolled": true
   },
   "outputs": [
    {
     "data": {
      "text/plain": [
       "(array([  9.99933224e-01,   1.57616529e-04,  -1.30026403e-04,\n",
       "          3.69754826e-05]), 179)"
      ]
     },
     "execution_count": 13,
     "metadata": {},
     "output_type": "execute_result"
    }
   ],
   "source": [
    "A = la.pascal(4)\n",
    "b = -np.ones(4)\n",
    "f = lambda x : 1/2 * np.dot(x, np.dot(A, x)) + np.dot(b, x) + 1\n",
    "x0 = np.array([4, 4, 4, 4])\n",
    "\n",
    "gd.trust_region(f, x0, 1, max_r=8)"
   ]
  },
  {
   "cell_type": "code",
   "execution_count": null,
   "metadata": {
    "collapsed": true
   },
   "outputs": [],
   "source": []
  }
 ],
 "metadata": {
  "kernelspec": {
   "display_name": "Python 3",
   "language": "python",
   "name": "python3"
  },
  "language_info": {
   "codemirror_mode": {
    "name": "ipython",
    "version": 3
   },
   "file_extension": ".py",
   "mimetype": "text/x-python",
   "name": "python",
   "nbconvert_exporter": "python",
   "pygments_lexer": "ipython3",
   "version": "3.6.0"
  }
 },
 "nbformat": 4,
 "nbformat_minor": 2
}
